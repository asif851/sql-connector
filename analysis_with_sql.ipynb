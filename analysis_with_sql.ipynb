{
 "cells": [
  {
   "cell_type": "code",
   "execution_count": 5,
   "metadata": {},
   "outputs": [],
   "source": [
    "import mysql.connector"
   ]
  },
  {
   "cell_type": "code",
   "execution_count": 6,
   "metadata": {},
   "outputs": [],
   "source": [
    "\n",
    "# Define the connection parameters\n",
    "db_config = {\n",
    "    \"host\": \"localhost\",  # Assuming the MySQL container is running on the same machine\n",
    "    \"port\": 3322,         # Port number of the MySQL container\n",
    "    \"user\": \"root\",\n",
    "    \"password\": \"sql26\",\n",
    "    \"database\": \"car_info\",\n",
    "}\n",
    "\n"
   ]
  },
  {
   "cell_type": "code",
   "execution_count": 7,
   "metadata": {},
   "outputs": [
    {
     "name": "stdout",
     "output_type": "stream",
     "text": [
      "Connected to MySQL database\n",
      "(1, 'Toyota', 'Camry', 2020, 'Blue', Decimal('25000.00'))\n",
      "(2, 'Honda', 'Civic', 2019, 'Red', Decimal('22000.00'))\n",
      "(3, 'Ford', 'Mustang', 2022, 'Black', Decimal('40000.00'))\n",
      "(4, 'Chevrolet', 'Corvette', 2021, 'Yellow', Decimal('60000.00'))\n",
      "(5, 'Tesla', 'Model S', 2023, 'White', Decimal('80000.00'))\n",
      "Connection closed\n"
     ]
    }
   ],
   "source": [
    "try:\n",
    "    # Establish a connection to the MySQL server\n",
    "    connection = mysql.connector.connect(**db_config)\n",
    "\n",
    "    if connection.is_connected():\n",
    "        print(\"Connected to MySQL database\")\n",
    "\n",
    "    # You can now execute SQL queries using the 'connection' object\n",
    "    # For example:\n",
    "    cursor = connection.cursor()\n",
    "    cursor.execute(\"SELECT * FROM modern_car\")\n",
    "    results = cursor.fetchall()\n",
    "\n",
    "    for row in results:\n",
    "        print(row)\n",
    "\n",
    "except mysql.connector.Error as err:\n",
    "    print(\"Error:\", err)\n",
    "\n",
    "finally:\n",
    "    if connection.is_connected():\n",
    "        cursor.close()\n",
    "        connection.close()\n",
    "        print(\"Connection closed\")\n"
   ]
  }
 ],
 "metadata": {
  "kernelspec": {
   "display_name": "Python 3",
   "language": "python",
   "name": "python3"
  },
  "language_info": {
   "codemirror_mode": {
    "name": "ipython",
    "version": 3
   },
   "file_extension": ".py",
   "mimetype": "text/x-python",
   "name": "python",
   "nbconvert_exporter": "python",
   "pygments_lexer": "ipython3",
   "version": "3.11.3"
  },
  "orig_nbformat": 4
 },
 "nbformat": 4,
 "nbformat_minor": 2
}
