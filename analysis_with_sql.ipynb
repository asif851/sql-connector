{
 "cells": [
  {
   "cell_type": "code",
   "execution_count": 8,
   "metadata": {},
   "outputs": [],
   "source": [
    "import pandas as pd\n",
    "from sqlalchemy import create_engine\n",
    "\n"
   ]
  },
  {
   "cell_type": "code",
   "execution_count": 13,
   "metadata": {},
   "outputs": [],
   "source": [
    "import MySQLdb\n"
   ]
  },
  {
   "cell_type": "code",
   "execution_count": 9,
   "metadata": {},
   "outputs": [],
   "source": [
    "\n",
    "# Database connection details\n",
    "db_user = 'root'\n",
    "db_password ='sql26'\n",
    "db_host = 'localhost'\n",
    "db_name = 'car'"
   ]
  },
  {
   "cell_type": "code",
   "execution_count": 12,
   "metadata": {},
   "outputs": [
    {
     "ename": "NoSuchModuleError",
     "evalue": "Can't load plugin: sqlalchemy.dialects:MySQLdb.mysqlconnector",
     "output_type": "error",
     "traceback": [
      "\u001b[0;31m---------------------------------------------------------------------------\u001b[0m",
      "\u001b[0;31mNoSuchModuleError\u001b[0m                         Traceback (most recent call last)",
      "Cell \u001b[0;32mIn[12], line 5\u001b[0m\n\u001b[1;32m      1\u001b[0m \u001b[39m# Create a SQLAlchemy engine\u001b[39;00m\n\u001b[1;32m      2\u001b[0m \u001b[39m# f'mysql+mysqlconnector://{db_user}:{db_password}@{db_host}/{db_name}'\u001b[39;00m\n\u001b[1;32m      3\u001b[0m \u001b[39m# f'mysql+mysqlconnector://{db_user}:{sql26}@{locahost}/{car}'\u001b[39;00m\n\u001b[1;32m      4\u001b[0m db_connection_str \u001b[39m=\u001b[39m \u001b[39mf\u001b[39m\u001b[39m'\u001b[39m\u001b[39mMySQLdb+mysqlconnector://\u001b[39m\u001b[39m{\u001b[39;00mdb_user\u001b[39m}\u001b[39;00m\u001b[39m:\u001b[39m\u001b[39m{\u001b[39;00mdb_password\u001b[39m}\u001b[39;00m\u001b[39m@\u001b[39m\u001b[39m{\u001b[39;00mdb_host\u001b[39m}\u001b[39;00m\u001b[39m/\u001b[39m\u001b[39m{\u001b[39;00mdb_name\u001b[39m}\u001b[39;00m\u001b[39m'\u001b[39m\n\u001b[0;32m----> 5\u001b[0m db_engine \u001b[39m=\u001b[39m create_engine(db_connection_str)\n",
      "File \u001b[0;32m<string>:2\u001b[0m, in \u001b[0;36mcreate_engine\u001b[0;34m(url, **kwargs)\u001b[0m\n",
      "File \u001b[0;32m/usr/lib/python3.11/site-packages/sqlalchemy/util/deprecations.py:309\u001b[0m, in \u001b[0;36mdeprecated_params.<locals>.decorate.<locals>.warned\u001b[0;34m(fn, *args, **kwargs)\u001b[0m\n\u001b[1;32m    302\u001b[0m     \u001b[39mif\u001b[39;00m m \u001b[39min\u001b[39;00m kwargs:\n\u001b[1;32m    303\u001b[0m         _warn_with_version(\n\u001b[1;32m    304\u001b[0m             messages[m],\n\u001b[1;32m    305\u001b[0m             versions[m],\n\u001b[1;32m    306\u001b[0m             version_warnings[m],\n\u001b[1;32m    307\u001b[0m             stacklevel\u001b[39m=\u001b[39m\u001b[39m3\u001b[39m,\n\u001b[1;32m    308\u001b[0m         )\n\u001b[0;32m--> 309\u001b[0m \u001b[39mreturn\u001b[39;00m fn(\u001b[39m*\u001b[39;49margs, \u001b[39m*\u001b[39;49m\u001b[39m*\u001b[39;49mkwargs)\n",
      "File \u001b[0;32m/usr/lib/python3.11/site-packages/sqlalchemy/engine/create.py:522\u001b[0m, in \u001b[0;36mcreate_engine\u001b[0;34m(url, **kwargs)\u001b[0m\n\u001b[1;32m    518\u001b[0m u \u001b[39m=\u001b[39m _url\u001b[39m.\u001b[39mmake_url(url)\n\u001b[1;32m    520\u001b[0m u, plugins, kwargs \u001b[39m=\u001b[39m u\u001b[39m.\u001b[39m_instantiate_plugins(kwargs)\n\u001b[0;32m--> 522\u001b[0m entrypoint \u001b[39m=\u001b[39m u\u001b[39m.\u001b[39;49m_get_entrypoint()\n\u001b[1;32m    523\u001b[0m dialect_cls \u001b[39m=\u001b[39m entrypoint\u001b[39m.\u001b[39mget_dialect_cls(u)\n\u001b[1;32m    525\u001b[0m \u001b[39mif\u001b[39;00m kwargs\u001b[39m.\u001b[39mpop(\u001b[39m\"\u001b[39m\u001b[39m_coerce_config\u001b[39m\u001b[39m\"\u001b[39m, \u001b[39mFalse\u001b[39;00m):\n",
      "File \u001b[0;32m/usr/lib/python3.11/site-packages/sqlalchemy/engine/url.py:656\u001b[0m, in \u001b[0;36mURL._get_entrypoint\u001b[0;34m(self)\u001b[0m\n\u001b[1;32m    654\u001b[0m \u001b[39melse\u001b[39;00m:\n\u001b[1;32m    655\u001b[0m     name \u001b[39m=\u001b[39m \u001b[39mself\u001b[39m\u001b[39m.\u001b[39mdrivername\u001b[39m.\u001b[39mreplace(\u001b[39m\"\u001b[39m\u001b[39m+\u001b[39m\u001b[39m\"\u001b[39m, \u001b[39m\"\u001b[39m\u001b[39m.\u001b[39m\u001b[39m\"\u001b[39m)\n\u001b[0;32m--> 656\u001b[0m \u001b[39mcls\u001b[39m \u001b[39m=\u001b[39m registry\u001b[39m.\u001b[39;49mload(name)\n\u001b[1;32m    657\u001b[0m \u001b[39m# check for legacy dialects that\u001b[39;00m\n\u001b[1;32m    658\u001b[0m \u001b[39m# would return a module with 'dialect' as the\u001b[39;00m\n\u001b[1;32m    659\u001b[0m \u001b[39m# actual class\u001b[39;00m\n\u001b[1;32m    660\u001b[0m \u001b[39mif\u001b[39;00m (\n\u001b[1;32m    661\u001b[0m     \u001b[39mhasattr\u001b[39m(\u001b[39mcls\u001b[39m, \u001b[39m\"\u001b[39m\u001b[39mdialect\u001b[39m\u001b[39m\"\u001b[39m)\n\u001b[1;32m    662\u001b[0m     \u001b[39mand\u001b[39;00m \u001b[39misinstance\u001b[39m(\u001b[39mcls\u001b[39m\u001b[39m.\u001b[39mdialect, \u001b[39mtype\u001b[39m)\n\u001b[1;32m    663\u001b[0m     \u001b[39mand\u001b[39;00m \u001b[39missubclass\u001b[39m(\u001b[39mcls\u001b[39m\u001b[39m.\u001b[39mdialect, Dialect)\n\u001b[1;32m    664\u001b[0m ):\n",
      "File \u001b[0;32m/usr/lib/python3.11/site-packages/sqlalchemy/util/langhelpers.py:343\u001b[0m, in \u001b[0;36mPluginLoader.load\u001b[0;34m(self, name)\u001b[0m\n\u001b[1;32m    340\u001b[0m         \u001b[39mself\u001b[39m\u001b[39m.\u001b[39mimpls[name] \u001b[39m=\u001b[39m impl\u001b[39m.\u001b[39mload\n\u001b[1;32m    341\u001b[0m         \u001b[39mreturn\u001b[39;00m impl\u001b[39m.\u001b[39mload()\n\u001b[0;32m--> 343\u001b[0m \u001b[39mraise\u001b[39;00m exc\u001b[39m.\u001b[39mNoSuchModuleError(\n\u001b[1;32m    344\u001b[0m     \u001b[39m\"\u001b[39m\u001b[39mCan\u001b[39m\u001b[39m'\u001b[39m\u001b[39mt load plugin: \u001b[39m\u001b[39m%s\u001b[39;00m\u001b[39m:\u001b[39m\u001b[39m%s\u001b[39;00m\u001b[39m\"\u001b[39m \u001b[39m%\u001b[39m (\u001b[39mself\u001b[39m\u001b[39m.\u001b[39mgroup, name)\n\u001b[1;32m    345\u001b[0m )\n",
      "\u001b[0;31mNoSuchModuleError\u001b[0m: Can't load plugin: sqlalchemy.dialects:MySQLdb.mysqlconnector"
     ]
    }
   ],
   "source": [
    "# Create a SQLAlchemy engine\n",
    "# f'mysql+mysqlconnector://{db_user}:{db_password}@{db_host}/{db_name}'\n",
    "# f'mysql+mysqlconnector://{db_user}:{sql26}@{locahost}/{car}'\n",
    "db_connection_str = f'mysql+mysqlconnector://{db_user}:{db_password}@{db_host}/{db_name}'\n",
    "db_engine = create_engine(db_connection_str)\n"
   ]
  },
  {
   "cell_type": "code",
   "execution_count": null,
   "metadata": {},
   "outputs": [],
   "source": [
    "# SQL query\n",
    "query = 'SELECT * FROM your_table'\n",
    "\n",
    "# Read data into Pandas DataFrame\n",
    "df = pd.read_sql(query, con=db_engine)\n",
    "\n",
    "# Display the first few rows of the DataFrame\n",
    "print(df.head())\n",
    "\n",
    "# Perform data analysis or manipulation tasks\n",
    "# For example, calculate the mean of a column\n",
    "mean_value = df['column_name'].mean()\n",
    "print(\"Mean value:\", mean_value)\n",
    "\n",
    "# Close the database connection\n",
    "db_engine.dispose()"
   ]
  },
  {
   "cell_type": "code",
   "execution_count": null,
   "metadata": {},
   "outputs": [],
   "source": []
  },
  {
   "cell_type": "code",
   "execution_count": null,
   "metadata": {},
   "outputs": [],
   "source": []
  },
  {
   "cell_type": "code",
   "execution_count": null,
   "metadata": {},
   "outputs": [],
   "source": []
  },
  {
   "cell_type": "code",
   "execution_count": null,
   "metadata": {},
   "outputs": [],
   "source": []
  },
  {
   "cell_type": "code",
   "execution_count": null,
   "metadata": {},
   "outputs": [],
   "source": []
  },
  {
   "cell_type": "code",
   "execution_count": null,
   "metadata": {},
   "outputs": [],
   "source": []
  },
  {
   "cell_type": "code",
   "execution_count": 16,
   "metadata": {},
   "outputs": [
    {
     "ename": "OperationalError",
     "evalue": "(1698, \"Access denied for user 'root'@'localhost'\")",
     "output_type": "error",
     "traceback": [
      "\u001b[0;31m---------------------------------------------------------------------------\u001b[0m",
      "\u001b[0;31mOperationalError\u001b[0m                          Traceback (most recent call last)",
      "Cell \u001b[0;32mIn[16], line 11\u001b[0m\n\u001b[1;32m      8\u001b[0m db_name \u001b[39m=\u001b[39m \u001b[39m'\u001b[39m\u001b[39mcar\u001b[39m\u001b[39m'\u001b[39m\n\u001b[1;32m     10\u001b[0m \u001b[39m# Establish a connection\u001b[39;00m\n\u001b[0;32m---> 11\u001b[0m connection \u001b[39m=\u001b[39m MySQLdb\u001b[39m.\u001b[39;49mconnect(host\u001b[39m=\u001b[39;49mdb_host, user\u001b[39m=\u001b[39;49mdb_user, passwd\u001b[39m=\u001b[39;49mdb_password, db\u001b[39m=\u001b[39;49mdb_name)\n",
      "File \u001b[0;32m/usr/lib/python3.11/site-packages/MySQLdb/__init__.py:123\u001b[0m, in \u001b[0;36mConnect\u001b[0;34m(*args, **kwargs)\u001b[0m\n\u001b[1;32m    120\u001b[0m \u001b[39m\u001b[39m\u001b[39m\"\"\"Factory function for connections.Connection.\"\"\"\u001b[39;00m\n\u001b[1;32m    121\u001b[0m \u001b[39mfrom\u001b[39;00m \u001b[39mMySQLdb\u001b[39;00m\u001b[39m.\u001b[39;00m\u001b[39mconnections\u001b[39;00m \u001b[39mimport\u001b[39;00m Connection\n\u001b[0;32m--> 123\u001b[0m \u001b[39mreturn\u001b[39;00m Connection(\u001b[39m*\u001b[39;49margs, \u001b[39m*\u001b[39;49m\u001b[39m*\u001b[39;49mkwargs)\n",
      "File \u001b[0;32m/usr/lib/python3.11/site-packages/MySQLdb/connections.py:185\u001b[0m, in \u001b[0;36mConnection.__init__\u001b[0;34m(self, *args, **kwargs)\u001b[0m\n\u001b[1;32m    182\u001b[0m \u001b[39m# PEP-249 requires autocommit to be initially off\u001b[39;00m\n\u001b[1;32m    183\u001b[0m autocommit \u001b[39m=\u001b[39m kwargs2\u001b[39m.\u001b[39mpop(\u001b[39m\"\u001b[39m\u001b[39mautocommit\u001b[39m\u001b[39m\"\u001b[39m, \u001b[39mFalse\u001b[39;00m)\n\u001b[0;32m--> 185\u001b[0m \u001b[39msuper\u001b[39;49m()\u001b[39m.\u001b[39;49m\u001b[39m__init__\u001b[39;49m(\u001b[39m*\u001b[39;49margs, \u001b[39m*\u001b[39;49m\u001b[39m*\u001b[39;49mkwargs2)\n\u001b[1;32m    186\u001b[0m \u001b[39mself\u001b[39m\u001b[39m.\u001b[39mcursorclass \u001b[39m=\u001b[39m cursorclass\n\u001b[1;32m    187\u001b[0m \u001b[39mself\u001b[39m\u001b[39m.\u001b[39mencoders \u001b[39m=\u001b[39m {k: v \u001b[39mfor\u001b[39;00m k, v \u001b[39min\u001b[39;00m conv\u001b[39m.\u001b[39mitems() \u001b[39mif\u001b[39;00m \u001b[39mtype\u001b[39m(k) \u001b[39mis\u001b[39;00m \u001b[39mnot\u001b[39;00m \u001b[39mint\u001b[39m}\n",
      "\u001b[0;31mOperationalError\u001b[0m: (1698, \"Access denied for user 'root'@'localhost'\")"
     ]
    }
   ],
   "source": [
    "import MySQLdb\n",
    "\n",
    "# Replace these values with your actual database credentials\n",
    "# Database connection details\n",
    "db_user = 'root'\n",
    "db_password ='sql26'\n",
    "db_host = 'localhost'\n",
    "db_name = 'car'\n",
    "\n",
    "# Establish a connection\n",
    "connection = MySQLdb.connect(host=db_host, user=db_user, passwd=db_password, db=db_name)\n",
    "\n",
    "\n"
   ]
  },
  {
   "cell_type": "code",
   "execution_count": null,
   "metadata": {},
   "outputs": [],
   "source": [
    "\n",
    "\n",
    "# Create a cursor\n",
    "cursor = connection.cursor()\n",
    "\n",
    "# Execute SQL queries\n",
    "cursor.execute(\"SELECT * FROM your_table\")\n",
    "result = cursor.fetchall()\n",
    "\n",
    "# Print the results\n",
    "for row in result:\n",
    "    print(row)\n",
    "\n",
    "# Close the cursor and connection\n",
    "cursor.close()\n",
    "connection.close()"
   ]
  },
  {
   "cell_type": "code",
   "execution_count": null,
   "metadata": {},
   "outputs": [],
   "source": []
  },
  {
   "cell_type": "code",
   "execution_count": null,
   "metadata": {},
   "outputs": [],
   "source": []
  },
  {
   "cell_type": "code",
   "execution_count": null,
   "metadata": {},
   "outputs": [],
   "source": []
  }
 ],
 "metadata": {
  "kernelspec": {
   "display_name": "Python 3",
   "language": "python",
   "name": "python3"
  },
  "language_info": {
   "codemirror_mode": {
    "name": "ipython",
    "version": 3
   },
   "file_extension": ".py",
   "mimetype": "text/x-python",
   "name": "python",
   "nbconvert_exporter": "python",
   "pygments_lexer": "ipython3",
   "version": "3.11.3"
  },
  "orig_nbformat": 4
 },
 "nbformat": 4,
 "nbformat_minor": 2
}
